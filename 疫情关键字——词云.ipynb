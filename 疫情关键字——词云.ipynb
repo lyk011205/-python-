{
 "cells": [
  {
   "cell_type": "code",
   "execution_count": 6,
   "metadata": {},
   "outputs": [],
   "source": [
    "import jieba\n",
    "import wordcloud"
   ]
  },
  {
   "cell_type": "code",
   "execution_count": 7,
   "metadata": {},
   "outputs": [],
   "source": [
    "import imageio\n",
    "mk = imageio.imread(\"C:\\\\Users\\\\86188\\\\Desktop\\\\python大作业\\\\background of 词云.jpg\")\n",
    "w= wordcloud.WordCloud(mask = mk)"
   ]
  },
  {
   "cell_type": "code",
   "execution_count": 8,
   "metadata": {},
   "outputs": [
    {
     "data": {
      "text/plain": [
       "<wordcloud.wordcloud.WordCloud at 0x23980030d48>"
      ]
     },
     "execution_count": 8,
     "metadata": {},
     "output_type": "execute_result"
    }
   ],
   "source": [
    "w = wordcloud.WordCloud(width = 1000,\n",
    "                       height = 700,\n",
    "                       font_path = 'msyh.ttc',\n",
    "                       mask = mk,\n",
    "                       scale = 15,\n",
    "                       contour_width = 10,\n",
    "                       contour_color = 'steelblue')\n",
    "f = open('keyWord.txt',encoding = 'utf-8')\n",
    "txt = f.read()\n",
    "txtlist = jieba.lcut(txt)\n",
    "string = \"\".join(txtlist)\n",
    "w.generate(string)\n",
    "w.to_file('疫情关键词——词云.png')"
   ]
  },
  {
   "cell_type": "code",
   "execution_count": null,
   "metadata": {},
   "outputs": [],
   "source": []
  }
 ],
 "metadata": {
  "kernelspec": {
   "display_name": "Python 3",
   "language": "python",
   "name": "python3"
  },
  "language_info": {
   "codemirror_mode": {
    "name": "ipython",
    "version": 3
   },
   "file_extension": ".py",
   "mimetype": "text/x-python",
   "name": "python",
   "nbconvert_exporter": "python",
   "pygments_lexer": "ipython3",
   "version": "3.7.4"
  }
 },
 "nbformat": 4,
 "nbformat_minor": 2
}
